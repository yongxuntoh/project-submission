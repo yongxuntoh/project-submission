{
 "cells": [
  {
   "cell_type": "code",
   "execution_count": 11,
   "metadata": {},
   "outputs": [],
   "source": [
    "#Import the libraries\n",
    "import pickle\n",
    "import time\n",
    "import pandas as pd\n",
    "import requests"
   ]
  },
  {
   "cell_type": "code",
   "execution_count": 10,
   "metadata": {},
   "outputs": [],
   "source": [
    "headers = {\"User-agent\":\"secret_agent\"}"
   ]
  },
  {
   "cell_type": "code",
   "execution_count": 3,
   "metadata": {},
   "outputs": [
    {
     "name": "stdout",
     "output_type": "stream",
     "text": [
      "200\n",
      "200\n"
     ]
    }
   ],
   "source": [
    "#Check that the url  is working\n",
    "\n",
    "url_puns = \"https://www.reddit.com/r/puns.json\"\n",
    "url_politics = \"https://www.reddit.com/r/politics.json\"\n",
    "\n",
    "res_puns = requests.get(url_puns, headers = headers)\n",
    "res_politics = requests.get(url_politics, headers = headers)\n",
    "\n",
    "print(res_puns.status_code)\n",
    "print(res_politics.status_code)"
   ]
  },
  {
   "cell_type": "code",
   "execution_count": 4,
   "metadata": {},
   "outputs": [],
   "source": [
    "#Web scraps the post titles from the Puns Subreddit Thread through Reddit's API and add them to a list\n",
    "puns_title = []\n",
    "after = None\n",
    "for i in range(38):\n",
    "    if after == None:\n",
    "        params = {}\n",
    "    else:\n",
    "        params = {\"after\": after}\n",
    "    url = \"https://www.reddit.com/r/puns.json\"\n",
    "    res = requests.get(url, params=params, headers=headers)\n",
    "    if res.status_code == 200:\n",
    "        the_json = res.json()\n",
    "        for j in range(25):\n",
    "            puns_title.append(the_json[\"data\"][\"children\"][j][\"data\"][\"title\"])\n",
    "            after = the_json[\"data\"][\"after\"]\n",
    "    else:\n",
    "        print(res.status_code)\n",
    "        break\n",
    "    time.sleep(1)"
   ]
  },
  {
   "cell_type": "code",
   "execution_count": 5,
   "metadata": {},
   "outputs": [],
   "source": [
    "#Web scraps the post titles from the Politics Subreddit Thread through Reddit's API and add them to a list\n",
    "politics_title = []\n",
    "after = None\n",
    "for i in range(35):\n",
    "    if after == None:\n",
    "        params = {}\n",
    "    else:\n",
    "        params = {\"after\": after}\n",
    "    url = \"https://www.reddit.com/r/politics.json\"\n",
    "    res = requests.get(url, params=params, headers=headers)\n",
    "    if res.status_code == 200:\n",
    "        the_json = res.json()\n",
    "        for j in range(25):\n",
    "            politics_title.append(the_json[\"data\"][\"children\"][j][\"data\"][\"title\"])\n",
    "            after = the_json[\"data\"][\"after\"]\n",
    "    else:\n",
    "        print(res.status_code)\n",
    "        break\n",
    "    time.sleep(1)"
   ]
  },
  {
   "cell_type": "code",
   "execution_count": 6,
   "metadata": {},
   "outputs": [
    {
     "name": "stdout",
     "output_type": "stream",
     "text": [
      "939\n",
      "870\n"
     ]
    }
   ],
   "source": [
    "#Check the length of unique entries\n",
    "print(len(set(puns_title)))\n",
    "print(len(set(politics_title)))"
   ]
  },
  {
   "cell_type": "code",
   "execution_count": 7,
   "metadata": {},
   "outputs": [],
   "source": [
    "#Convert the list to a set and then to Pandas Dataframe, convert all strings to lowercase and remove special characters\n",
    "puns_title2 = pd.DataFrame(set(puns_title)).rename(columns={0:\"title\"}).title.str.lower().str.replace('[^\\w\\s]','').to_frame()\n",
    "politics_title2 = pd.DataFrame(set(politics_title)).rename(columns={0:\"title\"}).title.str.lower().str.replace('[^\\w\\s]','').to_frame()\n",
    "\n",
    "#Differentiate between the two threads\n",
    "puns_title2[\"target\"] = 1\n",
    "politics_title2[\"target\"] = 0\n",
    "\n",
    "#Combine the dataframes together\n",
    "df_title = pd.concat([puns_title2, politics_title2]).reset_index().drop(columns=[\"index\"])"
   ]
  },
  {
   "cell_type": "code",
   "execution_count": 8,
   "metadata": {},
   "outputs": [],
   "source": [
    "#Export the data to csv\n",
    "df_title.to_csv('../data/df_title.csv')"
   ]
  },
  {
   "cell_type": "code",
   "execution_count": 16,
   "metadata": {},
   "outputs": [],
   "source": [
    "#Export list to txt\n",
    "with open(\"../data/puns_title.txt\", \"wb\") as fp:\n",
    "    pickle.dump(puns_title, fp)\n",
    "    \n",
    "with open(\"../data/politics_title.txt\", \"wb\") as fp:\n",
    "    pickle.dump(politics_title, fp)"
   ]
  },
  {
   "cell_type": "code",
   "execution_count": null,
   "metadata": {},
   "outputs": [],
   "source": []
  }
 ],
 "metadata": {
  "kernelspec": {
   "display_name": "Python 3",
   "language": "python",
   "name": "python3"
  },
  "language_info": {
   "codemirror_mode": {
    "name": "ipython",
    "version": 3
   },
   "file_extension": ".py",
   "mimetype": "text/x-python",
   "name": "python",
   "nbconvert_exporter": "python",
   "pygments_lexer": "ipython3",
   "version": "3.7.3"
  }
 },
 "nbformat": 4,
 "nbformat_minor": 2
}
